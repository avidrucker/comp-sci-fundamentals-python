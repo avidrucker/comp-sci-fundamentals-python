{
 "cells": [
  {
   "cell_type": "markdown",
   "metadata": {},
   "source": [
    "# this is a markdown cell\n",
    "\n",
    "The convention in **Object Oriented Programming** as well as **Functional Programmings** is that *CONSTANTS* (variables that never change) are written in \"UPPER CASE\". Another convention unique to OOP is *\"Proper case\"* (first letter only is capitalized)\n",
    "\n",
    "here is a list:\n",
    "- item 1\n",
    "- item 2\n",
    "- item 3"
   ]
  },
  {
   "cell_type": "code",
   "execution_count": 95,
   "metadata": {
    "collapsed": true
   },
   "outputs": [],
   "source": [
    "# we define our class (blueprint) with two properties\n",
    "class Back_Pack:\n",
    "    MAX_WEIGHT = 15\n",
    "    MAX_SIZE = 4\n",
    "    items = []\n",
    "    \n",
    "    def total_weight(items_list):\n",
    "        total = 0\n",
    "        for item in items_list:\n",
    "            total += item[\"weight\"]\n",
    "        return total"
   ]
  },
  {
   "cell_type": "code",
   "execution_count": 96,
   "metadata": {},
   "outputs": [
    {
     "name": "stdout",
     "output_type": "stream",
     "text": [
      "15\n"
     ]
    }
   ],
   "source": [
    "# we instantiate a new object using the Back_Pack class\n",
    "my_back_pack = Back_Pack()\n",
    "print(my_back_pack.MAX_WEIGHT)"
   ]
  },
  {
   "cell_type": "markdown",
   "metadata": {},
   "source": [
    "**initialize** = get ready a value for the first time  \n",
    "**instantiate** = to create (e.g. an object)"
   ]
  },
  {
   "cell_type": "code",
   "execution_count": 97,
   "metadata": {},
   "outputs": [],
   "source": [
    "class Trip_Item:\n",
    "    def __init__(self, name, weight, size):\n",
    "        self.name = name\n",
    "        self.weight = weight\n",
    "        self.size = size # we asign the value of size to self.size\n",
    "        \n",
    "    def __str__(self):\n",
    "        return self.name"
   ]
  },
  {
   "cell_type": "code",
   "execution_count": 98,
   "metadata": {},
   "outputs": [
    {
     "name": "stdout",
     "output_type": "stream",
     "text": [
      "Laptop 5 0.5\n"
     ]
    }
   ],
   "source": [
    "# I instantiate my first trip item, giving it a name of \"laptop\", a weight of 5 and a size of 0.5 \n",
    "trip_item_1 = Trip_Item(\"Laptop\", 5, 0.5)\n",
    "\n",
    "print(trip_item_1.name, trip_item_1.weight, trip_item_1.size)"
   ]
  },
  {
   "cell_type": "code",
   "execution_count": 99,
   "metadata": {
    "collapsed": true
   },
   "outputs": [],
   "source": [
    "# instantiate some new objects\n",
    "trip_item_2 = Trip_Item(\"1 Set of Clothing\", 3, 1)\n",
    "trip_item_3 = Trip_Item(\"1 Toiletries Set\", 0.5, 0.25)\n",
    "trip_item_4 = Trip_Item(\"1 Box of Chocolates\", 1, 0.5)\n",
    "trip_item_5 = Trip_Item(\"1 Pair of Boots\", 0.5, 1)\n",
    "trip_item_6 = Trip_Item(\"1 Rattlesnake\", 1, 0.25)"
   ]
  },
  {
   "cell_type": "code",
   "execution_count": 100,
   "metadata": {},
   "outputs": [],
   "source": [
    "trip_items = [trip_item_1, trip_item_2, trip_item_3, trip_item_4, trip_item_5, trip_item_6]"
   ]
  },
  {
   "cell_type": "code",
   "execution_count": 101,
   "metadata": {},
   "outputs": [],
   "source": [
    "# put all the items in the back-pack\n",
    "for item in trip_items:\n",
    "    my_back_pack.items.append(item)"
   ]
  },
  {
   "cell_type": "code",
   "execution_count": 105,
   "metadata": {},
   "outputs": [
    {
     "name": "stdout",
     "output_type": "stream",
     "text": [
      "[<__main__.Trip_Item object at 0x000002237C806860>, <__main__.Trip_Item object at 0x000002237C81CC50>, <__main__.Trip_Item object at 0x000002237C81C860>, <__main__.Trip_Item object at 0x000002237C81C9B0>, <__main__.Trip_Item object at 0x000002237C81CAC8>, <__main__.Trip_Item object at 0x000002237C81CDA0>]\n"
     ]
    }
   ],
   "source": [
    "# this code below doesn't give human readable output\n",
    "print(my_back_pack.items)"
   ]
  },
  {
   "cell_type": "code",
   "execution_count": 106,
   "metadata": {},
   "outputs": [
    {
     "name": "stdout",
     "output_type": "stream",
     "text": [
      "Laptop\n",
      "1 Set of Clothing\n",
      "1 Toiletries Set\n",
      "1 Box of Chocolates\n",
      "1 Pair of Boots\n",
      "1 Rattlesnake\n"
     ]
    }
   ],
   "source": [
    "# print out the name of each item in the back-ack\n",
    "for item in my_back_pack.items:\n",
    "    print(item)"
   ]
  },
  {
   "cell_type": "raw",
   "metadata": {},
   "source": [
    "# Python program to demonstrate writing of __repr__ and \n",
    "# __str__ for user defined classes \n",
    "  \n",
    "# A user defined class to represent Complex numbers \n",
    "class Complex: \n",
    "    def __init__(self, real, imag): \n",
    "        self.real = real\n",
    "        self.imag = imag \n",
    "  \n",
    "    # For call to repr(). Prints object's information \n",
    "    def __repr__(self):\n",
    "        return 'Rational(%s, %s)' % (self.real, self.imag)     \n",
    "  \n",
    "    # For call to str(). Prints readable form \n",
    "    def __str__(self):\n",
    "        return '%s + i%s' % (self.real, self.imag)\n",
    "    \n",
    "# Driver program to test above \n",
    "t = Complex(10, 20) \n",
    "  \n",
    "print(str(t))  # Same as \"print t\" \n",
    "print(repr(t)) "
   ]
  },
  {
   "cell_type": "code",
   "execution_count": null,
   "metadata": {
    "collapsed": true
   },
   "outputs": [],
   "source": []
  },
  {
   "cell_type": "code",
   "execution_count": 103,
   "metadata": {
    "collapsed": true
   },
   "outputs": [],
   "source": [
    "#my_back_pack.items.append(\"frog\")\n",
    "#my_back_pack.items.append(\"mouse\")\n",
    "#my_back_pack.items.append(\"elephant\")"
   ]
  }
 ],
 "metadata": {
  "kernelspec": {
   "display_name": "Python 3",
   "language": "python",
   "name": "python3"
  },
  "language_info": {
   "codemirror_mode": {
    "name": "ipython",
    "version": 3
   },
   "file_extension": ".py",
   "mimetype": "text/x-python",
   "name": "python",
   "nbconvert_exporter": "python",
   "pygments_lexer": "ipython3",
   "version": "3.6.3"
  }
 },
 "nbformat": 4,
 "nbformat_minor": 2
}
